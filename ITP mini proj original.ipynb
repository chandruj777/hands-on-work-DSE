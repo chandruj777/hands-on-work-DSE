{
 "cells": [
  {
   "cell_type": "code",
   "execution_count": 82,
   "metadata": {},
   "outputs": [
    {
     "name": "stdout",
     "output_type": "stream",
     "text": [
      "{'shipment id:101': [1, 3, '14-3-2020', '25-3-2020', 'sender location: area1', 'receiver location:area4', 'delivery status: delivered', 'shipping cost:198'], 'shipment id:102': [4, 1, '18-6-2020', '9-7-2020', 'sender location:area2', 'receiver location:area4', 'delivery status:delivered', 'shipping cost:275'], 'shipment id:103': [2, 3, '1-12-2020', 'null', 'sender location: area5', 'receiver location:area1', 'delivery status:in-transit', 'shipping cost:200'], 'shipment id:104': [1, 5, '23-6-2020', '25-6-2020', 'sender location:area1', 'receiver location:area4', 'delivery status:delivered', 'shipping cost:314'], 'shipment id:105': [3, 4, '29-8-2020', '10-9-2020', 'sender location: area5', 'receiver location:area3', 'delivery status: delivered', 'shipping cost:275'], 'shipment id:106': [5, 2, '28-6-2020', 'null', 'sender location:area3', 'receiver location:area1', 'delivery status:in-transit', 'shipping cost:270']}\n"
     ]
    }
   ],
   "source": [
    "#Q1\n",
    "cms_dict={'shipment id:101': [1,3,'14-3-2020','25-3-2020','sender location: area1',\n",
    "                              'receiver location:area4','delivery status: delivered','shipping cost:198'],\n",
    "          'shipment id:102' : [4,1,'18-6-2020','9-7-2020','sender location:area2',\n",
    "                              'receiver location:area4','delivery status:delivered','shipping cost:275'],\n",
    "          'shipment id:103': [2,3,'1-12-2020','null','sender location: area5',\n",
    "                              'receiver location:area1','delivery status:in-transit','shipping cost:200'],\n",
    "          'shipment id:104' : [1,5,'23-6-2020','25-6-2020','sender location:area1',\n",
    "                              'receiver location:area4','delivery status:delivered','shipping cost:314'],\n",
    "          'shipment id:105': [3,4,'29-8-2020','10-9-2020','sender location: area5',\n",
    "                              'receiver location:area3','delivery status: delivered','shipping cost:275'],\n",
    "          'shipment id:106' : [5,2,'28-6-2020','null','sender location:area3',\n",
    "                              'receiver location:area1','delivery status:in-transit','shipping cost:270']}\n",
    "print(cms_dict)"
   ]
  },
  {
   "cell_type": "code",
   "execution_count": 76,
   "metadata": {},
   "outputs": [
    {
     "name": "stdout",
     "output_type": "stream",
     "text": [
      "{1: 'Philip', 2: 'Omega III', 3: 'Ramya', 4: 'Romesh', 5: 'John'}\n"
     ]
    }
   ],
   "source": [
    "#Q2\n",
    "clients_dict={1:'Philip',2:'Omega III',3:'Ramya',4:'Romesh',5:'John'}\n",
    "print(clients_dict)"
   ]
  },
  {
   "cell_type": "code",
   "execution_count": 77,
   "metadata": {},
   "outputs": [
    {
     "name": "stdout",
     "output_type": "stream",
     "text": [
      "{'shipment id:101': ['Philip', 'Ramya', '14-3-2020', '25-3-2020', 'sender location: area1', 'receiver location:area4', 'delivery status: delivered', 'shipping cost:198'], 'shipment id:102': ['Romesh', 'Philip', '18-6-2020', '9-7-2020', 'sender location:area2', 'receiver location:area4', 'delivery status:delivered', 'shipping cost:275'], 'shipment id:103': ['Omega III', 'Ramya', '1-12-2020', 'null', 'sender location: area5', 'receiver location:area1', 'delivery status:in-transit', 'shipping cost:200'], 'shipment id:104': ['Philip', 'John', '23-6-2020', '25-6-2020', 'sender location:area1', 'receiver location:area4', 'delivery status:delivered', 'shipping cost:314'], 'shipment id:105': ['Ramya', 'Romesh', '29-8-2020', '10-9-2020', 'sender location: area5', 'receiver location:area3', 'delivery status: delivered', 'shipping cost:275'], 'shipment id:106': ['John', 'Omega III', '28-6-2020', 'null', 'sender location:area3', 'receiver location:area1', 'delivery status:in-transit', 'shipping cost:270']}\n"
     ]
    }
   ],
   "source": [
    "#Q3\n",
    "cms_dict_keys=list(cms_dict.keys())\n",
    "cms_dict_values=list(cms_dict.values())\n",
    "for i in cms_dict_values:\n",
    "    for j in range(2):\n",
    "        i[j]=clients_dict[i[j]]\n",
    "s_information={cms_dict_keys[i]:cms_dict_values[i]  for i in range(len(cms_dict_keys))}\n",
    "print(s_information)"
   ]
  },
  {
   "cell_type": "code",
   "execution_count": 78,
   "metadata": {},
   "outputs": [
    {
     "name": "stdout",
     "output_type": "stream",
     "text": [
      "{'shipment id:101': ['Philip', 'Ramya', '14-3-2020', '25-3-2020', 'sender location: area1', 'receiver location:area4', 'delivery status: delivered', 'shipping cost:198'], 'shipment id:104': ['Philip', 'John', '23-6-2020', '25-6-2020', 'sender location:area1', 'receiver location:area4', 'delivery status:delivered', 'shipping cost:314']}\n"
     ]
    }
   ],
   "source": [
    "#Q4\n",
    "print(dict(map(lambda x:(x,s_information[x]), list(filter(lambda x : s_information[x][0] == 'Philip',s_information)))))\n"
   ]
  },
  {
   "cell_type": "code",
   "execution_count": 79,
   "metadata": {},
   "outputs": [
    {
     "name": "stdout",
     "output_type": "stream",
     "text": [
      "{'shipment id:101': ['Philip', 'Ramya', '14-3-2020', '25-3-2020', 'sender location: area1', 'receiver location:area4', 'delivery status: delivered', 'shipping cost:198'], 'shipment id:103': ['Omega III', 'Ramya', '1-12-2020', 'null', 'sender location: area5', 'receiver location:area1', 'delivery status:in-transit', 'shipping cost:200']}\n"
     ]
    }
   ],
   "source": [
    "#q5\n",
    "print(dict(map(lambda x:(x,s_information[x]), list(filter(lambda x : s_information[x][1] == 'Ramya',s_information)))))\n"
   ]
  },
  {
   "cell_type": "code",
   "execution_count": 80,
   "metadata": {},
   "outputs": [
    {
     "name": "stdout",
     "output_type": "stream",
     "text": [
      "{'shipment id:103': ['Omega III', 'Ramya', '1-12-2020', 'null', 'sender location: area5', 'receiver location:area1', 'delivery status:in-transit', 'shipping cost:200'], 'shipment id:106': ['John', 'Omega III', '28-6-2020', 'null', 'sender location:area3', 'receiver location:area1', 'delivery status:in-transit', 'shipping cost:270']}\n"
     ]
    }
   ],
   "source": [
    "#Q6\n",
    "print(dict(map(lambda x:(x,s_information[x]), list(filter(lambda x : s_information[x][6] == 'delivery status:in-transit',s_information)))))\n"
   ]
  },
  {
   "cell_type": "code",
   "execution_count": 83,
   "metadata": {},
   "outputs": [
    {
     "name": "stdout",
     "output_type": "stream",
     "text": [
      "['Philip', 'John', '23-6-2020', '25-6-2020', 'sender location:area1', 'receiver location:area4', 'delivery status:delivered', 'shipping cost:314']\n"
     ]
    }
   ],
   "source": [
    "#Q7\n",
    "from datetime import date,datetime\n",
    "date_format='%d-%m-%Y'\n",
    "for i in s_information.values():\n",
    "    d1=i[2]\n",
    "    d2=i[3]\n",
    "    if d2!='null':\n",
    "        a=datetime.strptime(d1,date_format)\n",
    "        b=datetime.strptime(d2,date_format)\n",
    "        diff=b-a\n",
    "        if(diff.days<=7):\n",
    "            print(i)"
   ]
  },
  {
   "cell_type": "code",
   "execution_count": 103,
   "metadata": {},
   "outputs": [
    {
     "name": "stdout",
     "output_type": "stream",
     "text": [
      "['Romesh', 'Philip', '18-6-2020', '9-7-2020', 'sender location:area2', 'receiver location:area4', 'delivery status:delivered', 'shipping cost:275']\n",
      "['Omega III', 'Ramya', '1-12-2020', 'null', 'sender location: area5', 'receiver location:area1', 'delivery status:in-transit', 'shipping cost:200']\n",
      "['John', 'Omega III', '28-6-2020', 'null', 'sender location:area3', 'receiver location:area1', 'delivery status:in-transit', 'shipping cost:270']\n"
     ]
    }
   ],
   "source": [
    "#Q8\n",
    "from datetime import datetime\n",
    "for i in s_information.values():\n",
    "    d3=i[2]\n",
    "    d4=i[3]\n",
    "    if d4 =='null':\n",
    "        print(i)\n",
    "    else:\n",
    "        c=datetime.strptime(d3,\"%d-%m-%Y\")\n",
    "        d=datetime.strptime(d4,\"%d-%m-%Y\") \n",
    "        sub=d-c\n",
    "        if sub.days>=15:\n",
    "            print(i)\n",
    "        "
   ]
  },
  {
   "cell_type": "code",
   "execution_count": null,
   "metadata": {},
   "outputs": [],
   "source": []
  }
 ],
 "metadata": {
  "kernelspec": {
   "display_name": "Python 3",
   "language": "python",
   "name": "python3"
  },
  "language_info": {
   "codemirror_mode": {
    "name": "ipython",
    "version": 3
   },
   "file_extension": ".py",
   "mimetype": "text/x-python",
   "name": "python",
   "nbconvert_exporter": "python",
   "pygments_lexer": "ipython3",
   "version": "3.8.5"
  }
 },
 "nbformat": 4,
 "nbformat_minor": 4
}
